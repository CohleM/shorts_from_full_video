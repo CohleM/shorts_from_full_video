{
 "cells": [
  {
   "cell_type": "code",
   "execution_count": 3,
   "id": "428adef5",
   "metadata": {},
   "outputs": [
    {
     "name": "stdout",
     "output_type": "stream",
     "text": [
      "Moviepy - Building video clips/zoomin.mp4.\n",
      "Moviepy - Writing video clips/zoomin.mp4\n",
      "\n"
     ]
    },
    {
     "name": "stderr",
     "output_type": "stream",
     "text": [
      "                                                                                                                                      \r"
     ]
    },
    {
     "name": "stdout",
     "output_type": "stream",
     "text": [
      "Moviepy - Done !\n",
      "Moviepy - video ready clips/zoomin.mp4\n"
     ]
    }
   ],
   "source": [
    "import moviepy.editor as mp\n",
    "import math\n",
    "from PIL import Image\n",
    "import numpy\n",
    "\n",
    "\n",
    "def zoom_in_effect(clip, zoom_ratio=0.04):\n",
    "    def effect(get_frame, t):\n",
    "        img = Image.fromarray(get_frame(t))\n",
    "        base_size = img.size\n",
    "\n",
    "        new_size = [\n",
    "            math.ceil(img.size[0] * (1 + (zoom_ratio * t))),\n",
    "            math.ceil(img.size[1] * (1 + (zoom_ratio * t)))\n",
    "        ]\n",
    "\n",
    "        # The new dimensions must be even.\n",
    "        new_size[0] = new_size[0] + (new_size[0] % 2)\n",
    "        new_size[1] = new_size[1] + (new_size[1] % 2)\n",
    "\n",
    "        img = img.resize(new_size, Image.LANCZOS)\n",
    "\n",
    "        x = math.ceil((new_size[0] - base_size[0]) / 2)\n",
    "        y = math.ceil((new_size[1] - base_size[1]) / 2)\n",
    "\n",
    "        img = img.crop([\n",
    "            x, y, new_size[0] - x, new_size[1] - y\n",
    "        ]).resize(base_size, Image.LANCZOS)\n",
    "\n",
    "        result = numpy.array(img)\n",
    "        img.close()\n",
    "\n",
    "        return result\n",
    "\n",
    "    return clip.fl(effect)\n",
    "\n",
    "\n",
    "size = (1920, 1080)\n",
    "\n",
    "images = [\n",
    "    'images/Niche Tunnel Vision.jpeg',\n",
    "]\n",
    "\n",
    "slides = []\n",
    "for n, url in enumerate(images):\n",
    "    slides.append(\n",
    "        mp.ImageClip(url).set_fps(25).set_duration(5).resize(size)\n",
    "    )\n",
    "\n",
    "    slides[n] = zoom_in_effect(slides[n], 0.04)\n",
    "\n",
    "\n",
    "video = mp.concatenate_videoclips(slides)\n",
    "video.write_videofile('clips/zoomin.mp4')"
   ]
  },
  {
   "cell_type": "code",
   "execution_count": 4,
   "id": "fc433d4a",
   "metadata": {},
   "outputs": [],
   "source": [
    "def Zoom(clip,mode='in',position='center',speed=1):\n",
    "    fps = clip.fps\n",
    "    duration = clip.duration\n",
    "    total_frames = int(duration*fps)\n",
    "    def main(getframe,t):\n",
    "        frame = getframe(t)\n",
    "        h,w = frame.shape[:2]\n",
    "        i = t*fps\n",
    "        if mode == 'out':\n",
    "            i = total_frames-i\n",
    "        zoom = 1+(i*((0.1*speed)/total_frames))\n",
    "        positions = {'center':[(w-(w*zoom))/2,(h-(h*zoom))/2],\n",
    "                     'left':[0,(h-(h*zoom))/2],\n",
    "                     'right':[(w-(w*zoom)),(h-(h*zoom))/2],\n",
    "                     'top':[(w-(w*zoom))/2,0],\n",
    "                     'topleft':[0,0],\n",
    "                     'topright':[(w-(w*zoom)),0],\n",
    "                     'bottom':[(w-(w*zoom))/2,(h-(h*zoom))],\n",
    "                     'bottomleft':[0,(h-(h*zoom))],\n",
    "                     'bottomright':[(w-(w*zoom)),(h-(h*zoom))]}\n",
    "        tx,ty = positions[position]\n",
    "        M = np.array([[zoom,0,tx], [0,zoom,ty]])\n",
    "        frame = cv2.warpAffine(frame,M,(w,h))\n",
    "        return frame\n",
    "    return clip.fl(main)"
   ]
  },
  {
   "cell_type": "code",
   "execution_count": 5,
   "id": "b20d5ecd",
   "metadata": {},
   "outputs": [
    {
     "name": "stdout",
     "output_type": "stream",
     "text": [
      "Moviepy - Building video clips/ggg.mp4.\n",
      "Moviepy - Writing video clips/ggg.mp4\n",
      "\n"
     ]
    },
    {
     "name": "stderr",
     "output_type": "stream",
     "text": [
      "                                                                                                                                      "
     ]
    },
    {
     "name": "stdout",
     "output_type": "stream",
     "text": [
      "Moviepy - Done !\n",
      "Moviepy - video ready clips/ggg.mp4\n"
     ]
    },
    {
     "name": "stderr",
     "output_type": "stream",
     "text": [
      "\r"
     ]
    }
   ],
   "source": [
    "from moviepy.editor import *\n",
    "import cv2\n",
    "import numpy as np\n",
    "\n",
    "img =  'images/Niche Tunnel Vision.jpeg' #using  the image link above\n",
    "\n",
    "clip = ImageClip(img).set_fps(30).set_duration(5)\n",
    "clip = Zoom(clip,mode='in',position='center',speed=1.2) #zoom function above\n",
    "\n",
    "clip.write_videofile('clips/ggg.mp4',preset='superfast')"
   ]
  },
  {
   "cell_type": "code",
   "execution_count": null,
   "id": "b2a713d0",
   "metadata": {},
   "outputs": [],
   "source": []
  }
 ],
 "metadata": {
  "kernelspec": {
   "display_name": "moviepy",
   "language": "python",
   "name": "moviepy"
  },
  "language_info": {
   "codemirror_mode": {
    "name": "ipython",
    "version": 3
   },
   "file_extension": ".py",
   "mimetype": "text/x-python",
   "name": "python",
   "nbconvert_exporter": "python",
   "pygments_lexer": "ipython3",
   "version": "3.10.0"
  }
 },
 "nbformat": 4,
 "nbformat_minor": 5
}
