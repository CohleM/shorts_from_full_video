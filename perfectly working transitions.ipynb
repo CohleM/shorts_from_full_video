{
 "cells": [
  {
   "cell_type": "markdown",
   "id": "c7b3a671",
   "metadata": {},
   "source": [
    "# works perfectly\n",
    "\n",
    "for checklight1.mp4 add +0.8 in it's start transition and it will work"
   ]
  },
  {
   "cell_type": "code",
   "execution_count": null,
   "id": "abb31f29",
   "metadata": {},
   "outputs": [],
   "source": [
    "clip1 = mpe.VideoFileClip('clips/sample1.mp4')\n",
    "clip2 = mpe.VideoFileClip('clips/sample2.mp4')\n",
    "transition_clip = mpe.VideoFileClip('clips/lightleaks/checklight1.mp4')\n",
    "\n",
    "# Apply mask to remove the green background from the transition clip\n",
    "masked_transition = transition_clip.fx(mpe.vfx.mask_color, color=[0, 0, 0], thr=100, s=5)\n",
    "\n",
    "# Define the duration of the transition\n",
    "transition_duration = masked_transition.duration\n",
    "\n",
    "# Ensure the transition does not exceed the duration of the clips\n",
    "if transition_duration > clip1.duration or transition_duration > clip2.duration:\n",
    "    raise ValueError(\"Transition duration exceeds the duration of one or both video clips.\")\n",
    "\n",
    "# Calculate the start times for the transition\n",
    "transition_start_clip1 = clip1.duration - transition_duration + 0.8\n",
    "transition_start_clip2 = transition_duration\n",
    "\n",
    "# Set the start time for the masked transition clip\n",
    "masked_transition = masked_transition.set_start(transition_start_clip1)\n",
    "\n",
    "# Create the composite video with the transition\n",
    "composite_transition = mpe.CompositeVideoClip([\n",
    "    clip1,\n",
    "    masked_transition,\n",
    "    clip2.set_start(clip1.duration)\n",
    "]).set_duration(clip1.duration + clip2.duration)\n",
    "\n",
    "\n",
    "composite_transition.write_videofile('clips/final_video5.mp4', codec='libx264', \n",
    "                     audio_codec='aac')"
   ]
  }
 ],
 "metadata": {
  "kernelspec": {
   "display_name": "moviepy",
   "language": "python",
   "name": "moviepy"
  },
  "language_info": {
   "codemirror_mode": {
    "name": "ipython",
    "version": 3
   },
   "file_extension": ".py",
   "mimetype": "text/x-python",
   "name": "python",
   "nbconvert_exporter": "python",
   "pygments_lexer": "ipython3",
   "version": "3.10.0"
  }
 },
 "nbformat": 4,
 "nbformat_minor": 5
}
