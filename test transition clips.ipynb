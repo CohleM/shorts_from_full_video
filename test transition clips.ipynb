{
 "cells": [
  {
   "cell_type": "code",
   "execution_count": 34,
   "id": "1c6d2dc2",
   "metadata": {},
   "outputs": [
    {
     "name": "stdout",
     "output_type": "stream",
     "text": [
      "Moviepy - Running:\n",
      ">>> \"+ \" \".join(cmd)\n",
      "Moviepy - Command successful\n"
     ]
    }
   ],
   "source": [
    "from moviepy.video.io.ffmpeg_tools import ffmpeg_extract_subclip\n",
    "ffmpeg_extract_subclip(\"clips/lights.mp4\", 20, 23, targetname=\"clips/Main_transition_clips/checklight7.mp4\")"
   ]
  },
  {
   "cell_type": "code",
   "execution_count": null,
   "id": "20416f0b",
   "metadata": {},
   "outputs": [],
   "source": []
  },
  {
   "cell_type": "markdown",
   "id": "fae87b64",
   "metadata": {},
   "source": [
    "time that works for transition clips\n",
    "\n",
    "checklight3.mp4 : +0.8\n",
    "checklight4.mp4 : + 1\n",
    "checklight5.mp4 : + 0.5\n",
    "checklight6.mp4 : + 0.8\n",
    "checklight7.mp4 : + 0.6\n",
    "\n",
    "\n",
    "\n"
   ]
  },
  {
   "cell_type": "code",
   "execution_count": 45,
   "id": "bb7d56a9",
   "metadata": {},
   "outputs": [],
   "source": [
    "import moviepy.editor as mpe\n",
    "\n",
    "def apply_transition(prev,nextt, transition, output):\n",
    "\n",
    "    clip1 = mpe.VideoFileClip(prev)\n",
    "    clip2 = mpe.VideoFileClip(nextt)\n",
    "    transition_clip = mpe.VideoFileClip(transition)\n",
    "\n",
    "    # Apply mask to remove the green background from the transition clip\n",
    "    masked_transition = transition_clip.fx(mpe.vfx.mask_color, color=[0, 0, 0], thr=100, s=5)\n",
    "\n",
    "    # Define the duration of the transition\n",
    "    transition_duration = masked_transition.duration\n",
    "\n",
    "    # Ensure the transition does not exceed the duration of the clips\n",
    "    if transition_duration > clip1.duration or transition_duration > clip2.duration:\n",
    "        raise ValueError(\"Transition duration exceeds the duration of one or both video clips.\")\n",
    "\n",
    "    # Calculate the start times for the transition\n",
    "    transition_start_clip1 = clip1.duration - transition_duration + 0.8\n",
    "    transition_start_clip2 = transition_duration\n",
    "\n",
    "    # Set the start time for the masked transition clip\n",
    "    masked_transition = masked_transition.set_start(transition_start_clip1)\n",
    "\n",
    "    # Create the composite video with the transition\n",
    "    composite_transition = mpe.CompositeVideoClip([\n",
    "        clip1,\n",
    "        masked_transition,\n",
    "        clip2.set_start(clip1.duration)\n",
    "#         clip2\n",
    "    ]).set_duration(clip1.duration + clip2.duration)\n",
    "\n",
    "\n",
    "    composite_transition.write_videofile(output, codec='libx264', \n",
    "                         audio_codec='aac', preset='superfast')"
   ]
  },
  {
   "cell_type": "code",
   "execution_count": 46,
   "id": "976ac94b",
   "metadata": {},
   "outputs": [
    {
     "name": "stdout",
     "output_type": "stream",
     "text": [
      "Combinig  subclips/test/1.mp4 subclips/test/2_2.mp4\n",
      "Moviepy - Building video subclips/test/test_transition.mp4.\n",
      "MoviePy - Writing audio in test_transitionTEMP_MPY_wvf_snd.mp4\n"
     ]
    },
    {
     "name": "stderr",
     "output_type": "stream",
     "text": [
      "                                                                                                                                                              \r"
     ]
    },
    {
     "name": "stdout",
     "output_type": "stream",
     "text": [
      "MoviePy - Done.\n",
      "Moviepy - Writing video subclips/test/test_transition.mp4\n",
      "\n"
     ]
    },
    {
     "name": "stderr",
     "output_type": "stream",
     "text": [
      "                                                                                                                                                              "
     ]
    },
    {
     "name": "stdout",
     "output_type": "stream",
     "text": [
      "Moviepy - Done !\n",
      "Moviepy - video ready subclips/test/test_transition.mp4\n"
     ]
    },
    {
     "name": "stderr",
     "output_type": "stream",
     "text": [
      "\r"
     ]
    }
   ],
   "source": [
    "prev_video = f'subclips/test/1.mp4'\n",
    "nextt_video = f'subclips/test/2_2.mp4'\n",
    "output = f'subclips/test/test_transition.mp4'\n",
    "transition_video = 'clips/Main_transition_clips/checklight6.mp4'\n",
    "\n",
    "print('Combinig ',prev_video, nextt_video)\n",
    "apply_transition(prev_video,nextt_video, transition_video, output)"
   ]
  },
  {
   "cell_type": "code",
   "execution_count": null,
   "id": "5203e000",
   "metadata": {},
   "outputs": [],
   "source": []
  }
 ],
 "metadata": {
  "kernelspec": {
   "display_name": "moviepy",
   "language": "python",
   "name": "moviepy"
  },
  "language_info": {
   "codemirror_mode": {
    "name": "ipython",
    "version": 3
   },
   "file_extension": ".py",
   "mimetype": "text/x-python",
   "name": "python",
   "nbconvert_exporter": "python",
   "pygments_lexer": "ipython3",
   "version": "3.10.0"
  }
 },
 "nbformat": 4,
 "nbformat_minor": 5
}
